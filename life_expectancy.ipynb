{
 "cells": [
  {
   "cell_type": "code",
   "execution_count": 42,
   "metadata": {},
   "outputs": [],
   "source": [
    "import pandas as pd\n",
    "import numpy as np\n",
    "import matplotlib.pyplot as plt\n",
    "%matplotlib inline\n",
    "import seaborn as sns\n",
    "from sklearn.model_selection import train_test_split \n",
    "from sklearn.preprocessing import StandardScaler\n",
    "from sklearn.ensemble import AdaBoostRegressor\n",
    "from sklearn import preprocessing\n",
    "from sklearn.metrics import accuracy_score,mean_squared_error, r2_score"
   ]
  },
  {
   "cell_type": "code",
   "execution_count": 2,
   "metadata": {},
   "outputs": [],
   "source": [
    "train = pd.read_csv('train.csv')\n",
    "test = pd.read_csv('test.csv')"
   ]
  },
  {
   "cell_type": "code",
   "execution_count": 3,
   "metadata": {},
   "outputs": [],
   "source": [
    "columns = train.columns"
   ]
  },
  {
   "cell_type": "code",
   "execution_count": 4,
   "metadata": {},
   "outputs": [],
   "source": [
    "train.drop([columns[2], columns[7],columns[6], columns[10], columns[11], columns[12], columns[13], columns[14]], inplace=True, axis=1)"
   ]
  },
  {
   "cell_type": "code",
   "execution_count": 5,
   "metadata": {},
   "outputs": [],
   "source": [
    "columns = train.columns"
   ]
  },
  {
   "cell_type": "code",
   "execution_count": 6,
   "metadata": {},
   "outputs": [],
   "source": [
    "for i in columns:\n",
    "    train[i].fillna(train[i].median(), inplace=True)"
   ]
  },
  {
   "cell_type": "code",
   "execution_count": 7,
   "metadata": {},
   "outputs": [
    {
     "data": {
      "text/plain": [
       "Unnamed: 0                                                   0\n",
       "Year                                                         0\n",
       "GDP (current US$)                                            0\n",
       "GDP growth (annual %)                                        0\n",
       "Inflation, GDP deflator (annual %)                           0\n",
       "Exports of goods and services (% of GDP)                     0\n",
       "Imports of goods and services (% of GDP)                     0\n",
       "External debt stocks, total (DOD, current US$)               0\n",
       "Foreign direct investment, net inflows (BoP, current US$)    0\n",
       "Population, total                                            0\n",
       "CO2 emissions (metric tons per capita)                       0\n",
       "Life expectancy at birth, total (years)                      0\n",
       "dtype: int64"
      ]
     },
     "execution_count": 7,
     "metadata": {},
     "output_type": "execute_result"
    }
   ],
   "source": [
    "train.isnull().sum()"
   ]
  },
  {
   "cell_type": "code",
   "execution_count": 8,
   "metadata": {},
   "outputs": [
    {
     "name": "stdout",
     "output_type": "stream",
     "text": [
      "int64\n",
      "int64\n",
      "float64\n",
      "float64\n",
      "float64\n",
      "float64\n",
      "float64\n",
      "float64\n",
      "float64\n",
      "int64\n",
      "float64\n",
      "float64\n"
     ]
    }
   ],
   "source": [
    "for i in train.columns:\n",
    "    print(train[i].dtype)"
   ]
  },
  {
   "cell_type": "code",
   "execution_count": 9,
   "metadata": {},
   "outputs": [],
   "source": [
    "column = test.columns"
   ]
  },
  {
   "cell_type": "code",
   "execution_count": 10,
   "metadata": {},
   "outputs": [],
   "source": [
    "test.drop([column[2], column[7],column[6], column[10], column[11], column[12], column[13], column[14]], inplace=True, axis=1)"
   ]
  },
  {
   "cell_type": "code",
   "execution_count": 11,
   "metadata": {},
   "outputs": [],
   "source": [
    "column = test.columns"
   ]
  },
  {
   "cell_type": "code",
   "execution_count": 12,
   "metadata": {},
   "outputs": [],
   "source": [
    "test[column[10]].fillna(0.565865, inplace=True)  "
   ]
  },
  {
   "cell_type": "code",
   "execution_count": 13,
   "metadata": {},
   "outputs": [
    {
     "data": {
      "text/plain": [
       "Unnamed: 0                                                   0\n",
       "Year                                                         0\n",
       "GDP (current US$)                                            0\n",
       "GDP growth (annual %)                                        0\n",
       "Inflation, GDP deflator (annual %)                           0\n",
       "Exports of goods and services (% of GDP)                     0\n",
       "Imports of goods and services (% of GDP)                     0\n",
       "External debt stocks, total (DOD, current US$)               0\n",
       "Foreign direct investment, net inflows (BoP, current US$)    0\n",
       "Population, total                                            0\n",
       "CO2 emissions (metric tons per capita)                       0\n",
       "dtype: int64"
      ]
     },
     "execution_count": 13,
     "metadata": {},
     "output_type": "execute_result"
    }
   ],
   "source": [
    "test.isnull().sum()"
   ]
  },
  {
   "cell_type": "code",
   "execution_count": 14,
   "metadata": {},
   "outputs": [],
   "source": [
    "test = test.replace('..',13.45)"
   ]
  },
  {
   "cell_type": "code",
   "execution_count": 15,
   "metadata": {},
   "outputs": [
    {
     "data": {
      "text/html": [
       "<div>\n",
       "<style scoped>\n",
       "    .dataframe tbody tr th:only-of-type {\n",
       "        vertical-align: middle;\n",
       "    }\n",
       "\n",
       "    .dataframe tbody tr th {\n",
       "        vertical-align: top;\n",
       "    }\n",
       "\n",
       "    .dataframe thead th {\n",
       "        text-align: right;\n",
       "    }\n",
       "</style>\n",
       "<table border=\"1\" class=\"dataframe\">\n",
       "  <thead>\n",
       "    <tr style=\"text-align: right;\">\n",
       "      <th></th>\n",
       "      <th>Unnamed: 0</th>\n",
       "      <th>Year</th>\n",
       "      <th>GDP (current US$)</th>\n",
       "      <th>GDP growth (annual %)</th>\n",
       "      <th>Inflation, GDP deflator (annual %)</th>\n",
       "      <th>Exports of goods and services (% of GDP)</th>\n",
       "      <th>Imports of goods and services (% of GDP)</th>\n",
       "      <th>External debt stocks, total (DOD, current US$)</th>\n",
       "      <th>Foreign direct investment, net inflows (BoP, current US$)</th>\n",
       "      <th>Population, total</th>\n",
       "      <th>CO2 emissions (metric tons per capita)</th>\n",
       "    </tr>\n",
       "  </thead>\n",
       "  <tbody>\n",
       "    <tr>\n",
       "      <th>0</th>\n",
       "      <td>0</td>\n",
       "      <td>1990</td>\n",
       "      <td>5.403580e+10</td>\n",
       "      <td>11.776886</td>\n",
       "      <td>6.668942</td>\n",
       "      <td>20.97477285</td>\n",
       "      <td>9.949967231</td>\n",
       "      <td>33458483418</td>\n",
       "      <td>587882970.6</td>\n",
       "      <td>95212450</td>\n",
       "      <td>0.411675</td>\n",
       "    </tr>\n",
       "    <tr>\n",
       "      <th>1</th>\n",
       "      <td>1</td>\n",
       "      <td>1991</td>\n",
       "      <td>4.911843e+10</td>\n",
       "      <td>0.358353</td>\n",
       "      <td>18.863907</td>\n",
       "      <td>24.24686728</td>\n",
       "      <td>12.77473759</td>\n",
       "      <td>33526931287</td>\n",
       "      <td>712373362.5</td>\n",
       "      <td>97667632</td>\n",
       "      <td>0.432827</td>\n",
       "    </tr>\n",
       "    <tr>\n",
       "      <th>2</th>\n",
       "      <td>2</td>\n",
       "      <td>1992</td>\n",
       "      <td>4.779493e+10</td>\n",
       "      <td>4.631193</td>\n",
       "      <td>46.752355</td>\n",
       "      <td>23.9747503</td>\n",
       "      <td>14.25263801</td>\n",
       "      <td>29018663728</td>\n",
       "      <td>896641282.5</td>\n",
       "      <td>100161710</td>\n",
       "      <td>0.465396</td>\n",
       "    </tr>\n",
       "    <tr>\n",
       "      <th>3</th>\n",
       "      <td>3</td>\n",
       "      <td>1993</td>\n",
       "      <td>2.775220e+10</td>\n",
       "      <td>-2.035119</td>\n",
       "      <td>41.639059</td>\n",
       "      <td>20.06653995</td>\n",
       "      <td>13.65321498</td>\n",
       "      <td>30699263746</td>\n",
       "      <td>1345368587</td>\n",
       "      <td>102700753</td>\n",
       "      <td>0.439501</td>\n",
       "    </tr>\n",
       "    <tr>\n",
       "      <th>4</th>\n",
       "      <td>4</td>\n",
       "      <td>1994</td>\n",
       "      <td>3.383304e+10</td>\n",
       "      <td>-1.814924</td>\n",
       "      <td>43.296464</td>\n",
       "      <td>13.54924651</td>\n",
       "      <td>9.509989939</td>\n",
       "      <td>33092276818</td>\n",
       "      <td>1959219858</td>\n",
       "      <td>105293700</td>\n",
       "      <td>0.334299</td>\n",
       "    </tr>\n",
       "    <tr>\n",
       "      <th>5</th>\n",
       "      <td>5</td>\n",
       "      <td>1995</td>\n",
       "      <td>4.406247e+10</td>\n",
       "      <td>-0.072665</td>\n",
       "      <td>75.401653</td>\n",
       "      <td>24.15581596</td>\n",
       "      <td>15.37256245</td>\n",
       "      <td>34094439060</td>\n",
       "      <td>335842165</td>\n",
       "      <td>107948335</td>\n",
       "      <td>0.312014</td>\n",
       "    </tr>\n",
       "    <tr>\n",
       "      <th>6</th>\n",
       "      <td>6</td>\n",
       "      <td>1996</td>\n",
       "      <td>5.107582e+10</td>\n",
       "      <td>4.195924</td>\n",
       "      <td>26.491090</td>\n",
       "      <td>23.02469951</td>\n",
       "      <td>17.23302974</td>\n",
       "      <td>31414754639</td>\n",
       "      <td>499276809.5</td>\n",
       "      <td>110668794</td>\n",
       "      <td>0.334795</td>\n",
       "    </tr>\n",
       "    <tr>\n",
       "      <th>7</th>\n",
       "      <td>7</td>\n",
       "      <td>1997</td>\n",
       "      <td>5.445784e+10</td>\n",
       "      <td>2.937099</td>\n",
       "      <td>5.055346</td>\n",
       "      <td>28.64975397</td>\n",
       "      <td>22.81125683</td>\n",
       "      <td>28467535604</td>\n",
       "      <td>469577019.8</td>\n",
       "      <td>113457663</td>\n",
       "      <td>0.363799</td>\n",
       "    </tr>\n",
       "    <tr>\n",
       "      <th>8</th>\n",
       "      <td>8</td>\n",
       "      <td>1998</td>\n",
       "      <td>5.460405e+10</td>\n",
       "      <td>2.581254</td>\n",
       "      <td>6.009344</td>\n",
       "      <td>18.1440897</td>\n",
       "      <td>21.13451777</td>\n",
       "      <td>30313714708</td>\n",
       "      <td>299566658.3</td>\n",
       "      <td>116319759</td>\n",
       "      <td>0.326916</td>\n",
       "    </tr>\n",
       "    <tr>\n",
       "      <th>9</th>\n",
       "      <td>9</td>\n",
       "      <td>1999</td>\n",
       "      <td>5.937261e+10</td>\n",
       "      <td>0.584127</td>\n",
       "      <td>13.430572</td>\n",
       "      <td>21.33433128</td>\n",
       "      <td>13.1234999</td>\n",
       "      <td>29095550937</td>\n",
       "      <td>1004915631</td>\n",
       "      <td>119260063</td>\n",
       "      <td>0.334168</td>\n",
       "    </tr>\n",
       "    <tr>\n",
       "      <th>10</th>\n",
       "      <td>10</td>\n",
       "      <td>2000</td>\n",
       "      <td>6.944876e+10</td>\n",
       "      <td>5.015935</td>\n",
       "      <td>22.673737</td>\n",
       "      <td>36.02326561</td>\n",
       "      <td>12.97233386</td>\n",
       "      <td>32374088077</td>\n",
       "      <td>1140167556</td>\n",
       "      <td>122283850</td>\n",
       "      <td>0.647043</td>\n",
       "    </tr>\n",
       "    <tr>\n",
       "      <th>11</th>\n",
       "      <td>11</td>\n",
       "      <td>2001</td>\n",
       "      <td>7.403036e+10</td>\n",
       "      <td>5.917685</td>\n",
       "      <td>10.076477</td>\n",
       "      <td>28.25095823</td>\n",
       "      <td>21.42954206</td>\n",
       "      <td>31418239764</td>\n",
       "      <td>1190618644</td>\n",
       "      <td>125394046</td>\n",
       "      <td>0.693956</td>\n",
       "    </tr>\n",
       "    <tr>\n",
       "      <th>12</th>\n",
       "      <td>12</td>\n",
       "      <td>2002</td>\n",
       "      <td>9.538582e+10</td>\n",
       "      <td>15.329156</td>\n",
       "      <td>21.109050</td>\n",
       "      <td>23.2397194</td>\n",
       "      <td>16.79544919</td>\n",
       "      <td>31780094348</td>\n",
       "      <td>1874070753</td>\n",
       "      <td>128596076</td>\n",
       "      <td>0.735533</td>\n",
       "    </tr>\n",
       "    <tr>\n",
       "      <th>13</th>\n",
       "      <td>13</td>\n",
       "      <td>2003</td>\n",
       "      <td>1.049120e+11</td>\n",
       "      <td>7.347195</td>\n",
       "      <td>9.804324</td>\n",
       "      <td>26.75138108</td>\n",
       "      <td>22.58358378</td>\n",
       "      <td>36711571871</td>\n",
       "      <td>2005353563</td>\n",
       "      <td>131900631</td>\n",
       "      <td>0.760558</td>\n",
       "    </tr>\n",
       "    <tr>\n",
       "      <th>14</th>\n",
       "      <td>14</td>\n",
       "      <td>2004</td>\n",
       "      <td>1.363860e+11</td>\n",
       "      <td>9.250558</td>\n",
       "      <td>22.368341</td>\n",
       "      <td>20.25380338</td>\n",
       "      <td>11.64206706</td>\n",
       "      <td>39898090686</td>\n",
       "      <td>1874060887</td>\n",
       "      <td>135320422</td>\n",
       "      <td>0.731582</td>\n",
       "    </tr>\n",
       "    <tr>\n",
       "      <th>15</th>\n",
       "      <td>15</td>\n",
       "      <td>2005</td>\n",
       "      <td>1.761340e+11</td>\n",
       "      <td>6.438517</td>\n",
       "      <td>19.858495</td>\n",
       "      <td>21.03395529</td>\n",
       "      <td>12.02550478</td>\n",
       "      <td>25754639315</td>\n",
       "      <td>4982533930</td>\n",
       "      <td>138865016</td>\n",
       "      <td>0.764190</td>\n",
       "    </tr>\n",
       "    <tr>\n",
       "      <th>16</th>\n",
       "      <td>16</td>\n",
       "      <td>2006</td>\n",
       "      <td>2.361040e+11</td>\n",
       "      <td>6.059428</td>\n",
       "      <td>23.864381</td>\n",
       "      <td>29.51613188</td>\n",
       "      <td>13.05043393</td>\n",
       "      <td>9617377579</td>\n",
       "      <td>4854353979</td>\n",
       "      <td>142538308</td>\n",
       "      <td>0.689211</td>\n",
       "    </tr>\n",
       "    <tr>\n",
       "      <th>17</th>\n",
       "      <td>17</td>\n",
       "      <td>2007</td>\n",
       "      <td>2.756260e+11</td>\n",
       "      <td>6.591130</td>\n",
       "      <td>7.099731</td>\n",
       "      <td>21.23633657</td>\n",
       "      <td>18.10059494</td>\n",
       "      <td>12144518677</td>\n",
       "      <td>6036021405</td>\n",
       "      <td>146339977</td>\n",
       "      <td>0.648278</td>\n",
       "    </tr>\n",
       "    <tr>\n",
       "      <th>18</th>\n",
       "      <td>18</td>\n",
       "      <td>2008</td>\n",
       "      <td>3.370360e+11</td>\n",
       "      <td>6.764473</td>\n",
       "      <td>7.921387</td>\n",
       "      <td>25.67007222</td>\n",
       "      <td>15.12676313</td>\n",
       "      <td>13128901893</td>\n",
       "      <td>8195499253</td>\n",
       "      <td>150269623</td>\n",
       "      <td>0.638768</td>\n",
       "    </tr>\n",
       "    <tr>\n",
       "      <th>19</th>\n",
       "      <td>19</td>\n",
       "      <td>2009</td>\n",
       "      <td>2.918800e+11</td>\n",
       "      <td>8.036925</td>\n",
       "      <td>0.686099</td>\n",
       "      <td>18.63034142</td>\n",
       "      <td>17.42836899</td>\n",
       "      <td>15942067576</td>\n",
       "      <td>8554740717</td>\n",
       "      <td>154324933</td>\n",
       "      <td>0.492981</td>\n",
       "    </tr>\n",
       "    <tr>\n",
       "      <th>20</th>\n",
       "      <td>20</td>\n",
       "      <td>2010</td>\n",
       "      <td>3.633600e+11</td>\n",
       "      <td>8.005656</td>\n",
       "      <td>16.342766</td>\n",
       "      <td>25.6606113</td>\n",
       "      <td>17.66014555</td>\n",
       "      <td>15484219062</td>\n",
       "      <td>6026232041</td>\n",
       "      <td>158503197</td>\n",
       "      <td>0.720175</td>\n",
       "    </tr>\n",
       "    <tr>\n",
       "      <th>21</th>\n",
       "      <td>21</td>\n",
       "      <td>2011</td>\n",
       "      <td>4.103350e+11</td>\n",
       "      <td>5.307924</td>\n",
       "      <td>9.778458</td>\n",
       "      <td>31.61694021</td>\n",
       "      <td>21.66101812</td>\n",
       "      <td>17663306192</td>\n",
       "      <td>8841113287</td>\n",
       "      <td>162805071</td>\n",
       "      <td>0.808855</td>\n",
       "    </tr>\n",
       "    <tr>\n",
       "      <th>22</th>\n",
       "      <td>22</td>\n",
       "      <td>2012</td>\n",
       "      <td>4.593760e+11</td>\n",
       "      <td>4.230061</td>\n",
       "      <td>9.947637</td>\n",
       "      <td>31.54658773</td>\n",
       "      <td>12.98578032</td>\n",
       "      <td>18127298622</td>\n",
       "      <td>7069934205</td>\n",
       "      <td>167228767</td>\n",
       "      <td>0.711653</td>\n",
       "    </tr>\n",
       "    <tr>\n",
       "      <th>23</th>\n",
       "      <td>23</td>\n",
       "      <td>2013</td>\n",
       "      <td>5.149660e+11</td>\n",
       "      <td>6.671335</td>\n",
       "      <td>4.964746</td>\n",
       "      <td>18.04990659</td>\n",
       "      <td>12.99895337</td>\n",
       "      <td>21143710109</td>\n",
       "      <td>5562873606</td>\n",
       "      <td>171765769</td>\n",
       "      <td>0.723832</td>\n",
       "    </tr>\n",
       "    <tr>\n",
       "      <th>24</th>\n",
       "      <td>24</td>\n",
       "      <td>2014</td>\n",
       "      <td>5.684990e+11</td>\n",
       "      <td>6.309719</td>\n",
       "      <td>4.662623</td>\n",
       "      <td>18.43512606</td>\n",
       "      <td>12.45006765</td>\n",
       "      <td>25295484777</td>\n",
       "      <td>4693828632</td>\n",
       "      <td>176404902</td>\n",
       "      <td>0.737683</td>\n",
       "    </tr>\n",
       "    <tr>\n",
       "      <th>25</th>\n",
       "      <td>25</td>\n",
       "      <td>2015</td>\n",
       "      <td>4.945830e+11</td>\n",
       "      <td>2.652693</td>\n",
       "      <td>2.863665</td>\n",
       "      <td>10.66630962</td>\n",
       "      <td>10.66634225</td>\n",
       "      <td>29273482479</td>\n",
       "      <td>3064168904</td>\n",
       "      <td>181137448</td>\n",
       "      <td>0.640003</td>\n",
       "    </tr>\n",
       "    <tr>\n",
       "      <th>26</th>\n",
       "      <td>26</td>\n",
       "      <td>2016</td>\n",
       "      <td>4.046500e+11</td>\n",
       "      <td>-1.616869</td>\n",
       "      <td>9.543670</td>\n",
       "      <td>9.218109698</td>\n",
       "      <td>11.50440918</td>\n",
       "      <td>31248541308</td>\n",
       "      <td>4448732917</td>\n",
       "      <td>185960289</td>\n",
       "      <td>0.647285</td>\n",
       "    </tr>\n",
       "    <tr>\n",
       "      <th>27</th>\n",
       "      <td>27</td>\n",
       "      <td>2017</td>\n",
       "      <td>3.757450e+11</td>\n",
       "      <td>0.805887</td>\n",
       "      <td>11.118918</td>\n",
       "      <td>13.1715621</td>\n",
       "      <td>13.1760369</td>\n",
       "      <td>40474780155</td>\n",
       "      <td>3502999131</td>\n",
       "      <td>190873311</td>\n",
       "      <td>0.565865</td>\n",
       "    </tr>\n",
       "    <tr>\n",
       "      <th>28</th>\n",
       "      <td>28</td>\n",
       "      <td>2018</td>\n",
       "      <td>3.981600e+11</td>\n",
       "      <td>1.922757</td>\n",
       "      <td>10.228485</td>\n",
       "      <td>15.49688918</td>\n",
       "      <td>17.51094431</td>\n",
       "      <td>47047231944</td>\n",
       "      <td>1997485165</td>\n",
       "      <td>195874740</td>\n",
       "      <td>0.565865</td>\n",
       "    </tr>\n",
       "    <tr>\n",
       "      <th>29</th>\n",
       "      <td>29</td>\n",
       "      <td>2019</td>\n",
       "      <td>4.481200e+11</td>\n",
       "      <td>2.208429</td>\n",
       "      <td>10.384779</td>\n",
       "      <td>13.45</td>\n",
       "      <td>13.45</td>\n",
       "      <td>13.45</td>\n",
       "      <td>13.45</td>\n",
       "      <td>200963599</td>\n",
       "      <td>0.565865</td>\n",
       "    </tr>\n",
       "  </tbody>\n",
       "</table>\n",
       "</div>"
      ],
      "text/plain": [
       "    Unnamed: 0  Year  GDP (current US$)  GDP growth (annual %)  \\\n",
       "0            0  1990       5.403580e+10              11.776886   \n",
       "1            1  1991       4.911843e+10               0.358353   \n",
       "2            2  1992       4.779493e+10               4.631193   \n",
       "3            3  1993       2.775220e+10              -2.035119   \n",
       "4            4  1994       3.383304e+10              -1.814924   \n",
       "5            5  1995       4.406247e+10              -0.072665   \n",
       "6            6  1996       5.107582e+10               4.195924   \n",
       "7            7  1997       5.445784e+10               2.937099   \n",
       "8            8  1998       5.460405e+10               2.581254   \n",
       "9            9  1999       5.937261e+10               0.584127   \n",
       "10          10  2000       6.944876e+10               5.015935   \n",
       "11          11  2001       7.403036e+10               5.917685   \n",
       "12          12  2002       9.538582e+10              15.329156   \n",
       "13          13  2003       1.049120e+11               7.347195   \n",
       "14          14  2004       1.363860e+11               9.250558   \n",
       "15          15  2005       1.761340e+11               6.438517   \n",
       "16          16  2006       2.361040e+11               6.059428   \n",
       "17          17  2007       2.756260e+11               6.591130   \n",
       "18          18  2008       3.370360e+11               6.764473   \n",
       "19          19  2009       2.918800e+11               8.036925   \n",
       "20          20  2010       3.633600e+11               8.005656   \n",
       "21          21  2011       4.103350e+11               5.307924   \n",
       "22          22  2012       4.593760e+11               4.230061   \n",
       "23          23  2013       5.149660e+11               6.671335   \n",
       "24          24  2014       5.684990e+11               6.309719   \n",
       "25          25  2015       4.945830e+11               2.652693   \n",
       "26          26  2016       4.046500e+11              -1.616869   \n",
       "27          27  2017       3.757450e+11               0.805887   \n",
       "28          28  2018       3.981600e+11               1.922757   \n",
       "29          29  2019       4.481200e+11               2.208429   \n",
       "\n",
       "    Inflation, GDP deflator (annual %)  \\\n",
       "0                             6.668942   \n",
       "1                            18.863907   \n",
       "2                            46.752355   \n",
       "3                            41.639059   \n",
       "4                            43.296464   \n",
       "5                            75.401653   \n",
       "6                            26.491090   \n",
       "7                             5.055346   \n",
       "8                             6.009344   \n",
       "9                            13.430572   \n",
       "10                           22.673737   \n",
       "11                           10.076477   \n",
       "12                           21.109050   \n",
       "13                            9.804324   \n",
       "14                           22.368341   \n",
       "15                           19.858495   \n",
       "16                           23.864381   \n",
       "17                            7.099731   \n",
       "18                            7.921387   \n",
       "19                            0.686099   \n",
       "20                           16.342766   \n",
       "21                            9.778458   \n",
       "22                            9.947637   \n",
       "23                            4.964746   \n",
       "24                            4.662623   \n",
       "25                            2.863665   \n",
       "26                            9.543670   \n",
       "27                           11.118918   \n",
       "28                           10.228485   \n",
       "29                           10.384779   \n",
       "\n",
       "   Exports of goods and services (% of GDP)  \\\n",
       "0                               20.97477285   \n",
       "1                               24.24686728   \n",
       "2                                23.9747503   \n",
       "3                               20.06653995   \n",
       "4                               13.54924651   \n",
       "5                               24.15581596   \n",
       "6                               23.02469951   \n",
       "7                               28.64975397   \n",
       "8                                18.1440897   \n",
       "9                               21.33433128   \n",
       "10                              36.02326561   \n",
       "11                              28.25095823   \n",
       "12                               23.2397194   \n",
       "13                              26.75138108   \n",
       "14                              20.25380338   \n",
       "15                              21.03395529   \n",
       "16                              29.51613188   \n",
       "17                              21.23633657   \n",
       "18                              25.67007222   \n",
       "19                              18.63034142   \n",
       "20                               25.6606113   \n",
       "21                              31.61694021   \n",
       "22                              31.54658773   \n",
       "23                              18.04990659   \n",
       "24                              18.43512606   \n",
       "25                              10.66630962   \n",
       "26                              9.218109698   \n",
       "27                               13.1715621   \n",
       "28                              15.49688918   \n",
       "29                                    13.45   \n",
       "\n",
       "   Imports of goods and services (% of GDP)  \\\n",
       "0                               9.949967231   \n",
       "1                               12.77473759   \n",
       "2                               14.25263801   \n",
       "3                               13.65321498   \n",
       "4                               9.509989939   \n",
       "5                               15.37256245   \n",
       "6                               17.23302974   \n",
       "7                               22.81125683   \n",
       "8                               21.13451777   \n",
       "9                                13.1234999   \n",
       "10                              12.97233386   \n",
       "11                              21.42954206   \n",
       "12                              16.79544919   \n",
       "13                              22.58358378   \n",
       "14                              11.64206706   \n",
       "15                              12.02550478   \n",
       "16                              13.05043393   \n",
       "17                              18.10059494   \n",
       "18                              15.12676313   \n",
       "19                              17.42836899   \n",
       "20                              17.66014555   \n",
       "21                              21.66101812   \n",
       "22                              12.98578032   \n",
       "23                              12.99895337   \n",
       "24                              12.45006765   \n",
       "25                              10.66634225   \n",
       "26                              11.50440918   \n",
       "27                               13.1760369   \n",
       "28                              17.51094431   \n",
       "29                                    13.45   \n",
       "\n",
       "   External debt stocks, total (DOD, current US$)  \\\n",
       "0                                     33458483418   \n",
       "1                                     33526931287   \n",
       "2                                     29018663728   \n",
       "3                                     30699263746   \n",
       "4                                     33092276818   \n",
       "5                                     34094439060   \n",
       "6                                     31414754639   \n",
       "7                                     28467535604   \n",
       "8                                     30313714708   \n",
       "9                                     29095550937   \n",
       "10                                    32374088077   \n",
       "11                                    31418239764   \n",
       "12                                    31780094348   \n",
       "13                                    36711571871   \n",
       "14                                    39898090686   \n",
       "15                                    25754639315   \n",
       "16                                     9617377579   \n",
       "17                                    12144518677   \n",
       "18                                    13128901893   \n",
       "19                                    15942067576   \n",
       "20                                    15484219062   \n",
       "21                                    17663306192   \n",
       "22                                    18127298622   \n",
       "23                                    21143710109   \n",
       "24                                    25295484777   \n",
       "25                                    29273482479   \n",
       "26                                    31248541308   \n",
       "27                                    40474780155   \n",
       "28                                    47047231944   \n",
       "29                                          13.45   \n",
       "\n",
       "   Foreign direct investment, net inflows (BoP, current US$)  \\\n",
       "0                                         587882970.6          \n",
       "1                                         712373362.5          \n",
       "2                                         896641282.5          \n",
       "3                                          1345368587          \n",
       "4                                          1959219858          \n",
       "5                                           335842165          \n",
       "6                                         499276809.5          \n",
       "7                                         469577019.8          \n",
       "8                                         299566658.3          \n",
       "9                                          1004915631          \n",
       "10                                         1140167556          \n",
       "11                                         1190618644          \n",
       "12                                         1874070753          \n",
       "13                                         2005353563          \n",
       "14                                         1874060887          \n",
       "15                                         4982533930          \n",
       "16                                         4854353979          \n",
       "17                                         6036021405          \n",
       "18                                         8195499253          \n",
       "19                                         8554740717          \n",
       "20                                         6026232041          \n",
       "21                                         8841113287          \n",
       "22                                         7069934205          \n",
       "23                                         5562873606          \n",
       "24                                         4693828632          \n",
       "25                                         3064168904          \n",
       "26                                         4448732917          \n",
       "27                                         3502999131          \n",
       "28                                         1997485165          \n",
       "29                                              13.45          \n",
       "\n",
       "    Population, total  CO2 emissions (metric tons per capita)  \n",
       "0            95212450                                0.411675  \n",
       "1            97667632                                0.432827  \n",
       "2           100161710                                0.465396  \n",
       "3           102700753                                0.439501  \n",
       "4           105293700                                0.334299  \n",
       "5           107948335                                0.312014  \n",
       "6           110668794                                0.334795  \n",
       "7           113457663                                0.363799  \n",
       "8           116319759                                0.326916  \n",
       "9           119260063                                0.334168  \n",
       "10          122283850                                0.647043  \n",
       "11          125394046                                0.693956  \n",
       "12          128596076                                0.735533  \n",
       "13          131900631                                0.760558  \n",
       "14          135320422                                0.731582  \n",
       "15          138865016                                0.764190  \n",
       "16          142538308                                0.689211  \n",
       "17          146339977                                0.648278  \n",
       "18          150269623                                0.638768  \n",
       "19          154324933                                0.492981  \n",
       "20          158503197                                0.720175  \n",
       "21          162805071                                0.808855  \n",
       "22          167228767                                0.711653  \n",
       "23          171765769                                0.723832  \n",
       "24          176404902                                0.737683  \n",
       "25          181137448                                0.640003  \n",
       "26          185960289                                0.647285  \n",
       "27          190873311                                0.565865  \n",
       "28          195874740                                0.565865  \n",
       "29          200963599                                0.565865  "
      ]
     },
     "execution_count": 15,
     "metadata": {},
     "output_type": "execute_result"
    }
   ],
   "source": [
    "test"
   ]
  },
  {
   "cell_type": "code",
   "execution_count": 16,
   "metadata": {},
   "outputs": [
    {
     "name": "stdout",
     "output_type": "stream",
     "text": [
      "int64\n",
      "int64\n",
      "float64\n",
      "float64\n",
      "float64\n",
      "object\n",
      "object\n",
      "object\n",
      "object\n",
      "int64\n",
      "float64\n"
     ]
    }
   ],
   "source": [
    "for i in test.columns:\n",
    "    print(test[i].dtype)"
   ]
  },
  {
   "cell_type": "code",
   "execution_count": 17,
   "metadata": {},
   "outputs": [
    {
     "data": {
      "text/plain": [
       "dtype('O')"
      ]
     },
     "execution_count": 17,
     "metadata": {},
     "output_type": "execute_result"
    }
   ],
   "source": [
    "test[column[-3]].dtype"
   ]
  },
  {
   "cell_type": "code",
   "execution_count": 18,
   "metadata": {},
   "outputs": [],
   "source": [
    "test[column[-3]] = test[column[-3]].astype('float')\n",
    "test[column[-4]] = test[column[-4]].astype('float')\n",
    "test[column[-5]] = test[column[-5]].astype('float')\n",
    "test[column[-6]] = test[column[-6]].astype('float')"
   ]
  },
  {
   "cell_type": "code",
   "execution_count": 19,
   "metadata": {},
   "outputs": [
    {
     "name": "stdout",
     "output_type": "stream",
     "text": [
      "int64\n",
      "int64\n",
      "float64\n",
      "float64\n",
      "float64\n",
      "float64\n",
      "float64\n",
      "float64\n",
      "float64\n",
      "int64\n",
      "float64\n"
     ]
    }
   ],
   "source": [
    "for i in test.columns:\n",
    "    print(test[i].dtype)"
   ]
  },
  {
   "cell_type": "code",
   "execution_count": 20,
   "metadata": {},
   "outputs": [
    {
     "data": {
      "text/plain": [
       "<matplotlib.axes._subplots.AxesSubplot at 0x293c2270f88>"
      ]
     },
     "execution_count": 20,
     "metadata": {},
     "output_type": "execute_result"
    },
    {
     "data": {
      "image/png": "[encoded data removed]",
      "text/plain": [
       "<Figure size 432x288 with 1 Axes>"
      ]
     },
     "metadata": {
      "needs_background": "light"
     },
     "output_type": "display_data"
    }
   ],
   "source": [
    "p=pd.pivot_table(data=train,index=columns[1],values= columns[-1],aggfunc=np.median)\n",
    "p.plot(kind='bar')"
   ]
  },
  {
   "cell_type": "code",
   "execution_count": 21,
   "metadata": {},
   "outputs": [
    {
     "data": {
      "text/plain": [
       "<matplotlib.axes._subplots.AxesSubplot at 0x293c266e608>"
      ]
     },
     "execution_count": 21,
     "metadata": {},
     "output_type": "execute_result"
    },
    {
     "data": {
      "image/png": "[encoded data removed]",
      "text/plain": [
       "<Figure size 432x288 with 1 Axes>"
      ]
     },
     "metadata": {
      "needs_background": "light"
     },
     "output_type": "display_data"
    }
   ],
   "source": [
    "p=pd.pivot_table(data=train,index=columns[2],values= columns[-1],aggfunc=np.median)\n",
    "p.plot(kind='bar')"
   ]
  },
  {
   "cell_type": "code",
   "execution_count": 22,
   "metadata": {},
   "outputs": [
    {
     "data": {
      "text/plain": [
       "<matplotlib.axes._subplots.AxesSubplot at 0x293c26066c8>"
      ]
     },
     "execution_count": 22,
     "metadata": {},
     "output_type": "execute_result"
    },
    {
     "data": {
      "image/png": "[encoded data removed]",
      "text/plain": [
       "<Figure size 432x288 with 1 Axes>"
      ]
     },
     "metadata": {
      "needs_background": "light"
     },
     "output_type": "display_data"
    }
   ],
   "source": [
    "train[columns[-1]].hist()"
   ]
  },
  {
   "cell_type": "code",
   "execution_count": 23,
   "metadata": {},
   "outputs": [
    {
     "data": {
      "text/plain": [
       "<matplotlib.axes._subplots.AxesSubplot at 0x293c2791d48>"
      ]
     },
     "execution_count": 23,
     "metadata": {},
     "output_type": "execute_result"
    },
    {
     "data": {
      "image/png": "[encoded data removed]",
      "text/plain": [
       "<Figure size 432x288 with 1 Axes>"
      ]
     },
     "metadata": {
      "needs_background": "light"
     },
     "output_type": "display_data"
    }
   ],
   "source": [
    "sns.scatterplot(data=train, y=columns[-1], x=columns[4])"
   ]
  },
  {
   "cell_type": "code",
   "execution_count": 24,
   "metadata": {},
   "outputs": [
    {
     "data": {
      "text/plain": [
       "<matplotlib.axes._subplots.AxesSubplot at 0x293c28070c8>"
      ]
     },
     "execution_count": 24,
     "metadata": {},
     "output_type": "execute_result"
    },
    {
     "data": {
      "image/png": "[encoded data removed]",
      "text/plain": [
       "<Figure size 432x288 with 1 Axes>"
      ]
     },
     "metadata": {
      "needs_background": "light"
     },
     "output_type": "display_data"
    }
   ],
   "source": [
    "sns.boxplot(data=train,x=columns[5] ,y=columns[-1])"
   ]
  },
  {
   "cell_type": "code",
   "execution_count": 25,
   "metadata": {},
   "outputs": [
    {
     "data": {
      "text/plain": [
       "<matplotlib.axes._subplots.AxesSubplot at 0x293c2a79c48>"
      ]
     },
     "execution_count": 25,
     "metadata": {},
     "output_type": "execute_result"
    },
    {
     "data": {
      "image/png": "[encoded data removed]",
      "text/plain": [
       "<Figure size 1440x1080 with 2 Axes>"
      ]
     },
     "metadata": {
      "needs_background": "light"
     },
     "output_type": "display_data"
    }
   ],
   "source": [
    "plt.figure(figsize=(20, 15)) \n",
    "sns.heatmap(train.corr(), annot=True)"
   ]
  },
  {
   "cell_type": "code",
   "execution_count": 26,
   "metadata": {},
   "outputs": [],
   "source": [
    "y = train['Life expectancy at birth, total (years)']\n",
    "X = train.drop('Life expectancy at birth, total (years)',axis=1)"
   ]
  },
  {
   "cell_type": "code",
   "execution_count": 46,
   "metadata": {},
   "outputs": [
    {
     "data": {
      "text/plain": [
       "0.9616849543618314"
      ]
     },
     "execution_count": 46,
     "metadata": {},
     "output_type": "execute_result"
    }
   ],
   "source": [
    "train_X, test_X, train_y, test_y = train_test_split(X, y, test_size=0.2, random_state=2)\n",
    "abr = AdaBoostRegressor(n_estimators=50, learning_rate=0.1, random_state=2)\n",
    "val=abr.fit(train_X,train_y)\n",
    "accuracy = abr.score(test_X, test_y)\n",
    "accuracy"
   ]
  },
  {
   "cell_type": "code",
   "execution_count": 28,
   "metadata": {},
   "outputs": [],
   "source": [
    "prediction = abr.predict(test)"
   ]
  },
  {
   "cell_type": "code",
   "execution_count": 29,
   "metadata": {},
   "outputs": [
    {
     "data": {
      "text/plain": [
       "array([45.333     , 45.333     , 45.333     , 44.547     , 44.547     ,\n",
       "       45.333     , 45.333     , 44.104     , 44.25166667, 45.333     ,\n",
       "       45.333     , 44.25166667, 45.333     , 44.25166667, 45.939     ,\n",
       "       45.9956    , 45.333     , 45.829     , 45.903     , 45.9696    ,\n",
       "       45.9788    , 45.828     , 46.00188889, 46.01966667, 46.017125  ,\n",
       "       46.02483333, 46.03333333, 46.017125  , 46.00188889, 45.903     ])"
      ]
     },
     "execution_count": 29,
     "metadata": {},
     "output_type": "execute_result"
    }
   ],
   "source": [
    "prediction"
   ]
  },
  {
   "cell_type": "code",
   "execution_count": 37,
   "metadata": {},
   "outputs": [],
   "source": [
    "submission = pd.DataFrame(test['Year'])\n",
    "submission['Life_Expectancy'] = prediction"
   ]
  },
  {
   "cell_type": "code",
   "execution_count": 38,
   "metadata": {},
   "outputs": [],
   "source": [
    "submission.to_csv('subExpectancy.csv',index=False)"
   ]
  },
  {
   "cell_type": "code",
   "execution_count": 39,
   "metadata": {},
   "outputs": [
    {
     "data": {
      "text/plain": [
       "0     1990\n",
       "1     1991\n",
       "2     1992\n",
       "3     1993\n",
       "4     1994\n",
       "5     1995\n",
       "6     1996\n",
       "7     1997\n",
       "8     1998\n",
       "9     1999\n",
       "10    2000\n",
       "11    2001\n",
       "12    2002\n",
       "13    2003\n",
       "14    2004\n",
       "15    2005\n",
       "16    2006\n",
       "17    2007\n",
       "18    2008\n",
       "19    2009\n",
       "20    2010\n",
       "21    2011\n",
       "22    2012\n",
       "23    2013\n",
       "24    2014\n",
       "25    2015\n",
       "26    2016\n",
       "27    2017\n",
       "28    2018\n",
       "29    2019\n",
       "Name: Year, dtype: int64"
      ]
     },
     "execution_count": 39,
     "metadata": {},
     "output_type": "execute_result"
    }
   ],
   "source": [
    "test['Year']"
   ]
  },
  {
   "cell_type": "code",
   "execution_count": 40,
   "metadata": {},
   "outputs": [
    {
     "data": {
      "text/html": [
       "<div>\n",
       "<style scoped>\n",
       "    .dataframe tbody tr th:only-of-type {\n",
       "        vertical-align: middle;\n",
       "    }\n",
       "\n",
       "    .dataframe tbody tr th {\n",
       "        vertical-align: top;\n",
       "    }\n",
       "\n",
       "    .dataframe thead th {\n",
       "        text-align: right;\n",
       "    }\n",
       "</style>\n",
       "<table border=\"1\" class=\"dataframe\">\n",
       "  <thead>\n",
       "    <tr style=\"text-align: right;\">\n",
       "      <th></th>\n",
       "      <th>Year</th>\n",
       "      <th>Life_Expectancy</th>\n",
       "    </tr>\n",
       "  </thead>\n",
       "  <tbody>\n",
       "    <tr>\n",
       "      <th>0</th>\n",
       "      <td>1990</td>\n",
       "      <td>45.333000</td>\n",
       "    </tr>\n",
       "    <tr>\n",
       "      <th>1</th>\n",
       "      <td>1991</td>\n",
       "      <td>45.333000</td>\n",
       "    </tr>\n",
       "    <tr>\n",
       "      <th>2</th>\n",
       "      <td>1992</td>\n",
       "      <td>45.333000</td>\n",
       "    </tr>\n",
       "    <tr>\n",
       "      <th>3</th>\n",
       "      <td>1993</td>\n",
       "      <td>44.547000</td>\n",
       "    </tr>\n",
       "    <tr>\n",
       "      <th>4</th>\n",
       "      <td>1994</td>\n",
       "      <td>44.547000</td>\n",
       "    </tr>\n",
       "    <tr>\n",
       "      <th>5</th>\n",
       "      <td>1995</td>\n",
       "      <td>45.333000</td>\n",
       "    </tr>\n",
       "    <tr>\n",
       "      <th>6</th>\n",
       "      <td>1996</td>\n",
       "      <td>45.333000</td>\n",
       "    </tr>\n",
       "    <tr>\n",
       "      <th>7</th>\n",
       "      <td>1997</td>\n",
       "      <td>44.104000</td>\n",
       "    </tr>\n",
       "    <tr>\n",
       "      <th>8</th>\n",
       "      <td>1998</td>\n",
       "      <td>44.251667</td>\n",
       "    </tr>\n",
       "    <tr>\n",
       "      <th>9</th>\n",
       "      <td>1999</td>\n",
       "      <td>45.333000</td>\n",
       "    </tr>\n",
       "    <tr>\n",
       "      <th>10</th>\n",
       "      <td>2000</td>\n",
       "      <td>45.333000</td>\n",
       "    </tr>\n",
       "    <tr>\n",
       "      <th>11</th>\n",
       "      <td>2001</td>\n",
       "      <td>44.251667</td>\n",
       "    </tr>\n",
       "    <tr>\n",
       "      <th>12</th>\n",
       "      <td>2002</td>\n",
       "      <td>45.333000</td>\n",
       "    </tr>\n",
       "    <tr>\n",
       "      <th>13</th>\n",
       "      <td>2003</td>\n",
       "      <td>44.251667</td>\n",
       "    </tr>\n",
       "    <tr>\n",
       "      <th>14</th>\n",
       "      <td>2004</td>\n",
       "      <td>45.939000</td>\n",
       "    </tr>\n",
       "    <tr>\n",
       "      <th>15</th>\n",
       "      <td>2005</td>\n",
       "      <td>45.995600</td>\n",
       "    </tr>\n",
       "    <tr>\n",
       "      <th>16</th>\n",
       "      <td>2006</td>\n",
       "      <td>45.333000</td>\n",
       "    </tr>\n",
       "    <tr>\n",
       "      <th>17</th>\n",
       "      <td>2007</td>\n",
       "      <td>45.829000</td>\n",
       "    </tr>\n",
       "    <tr>\n",
       "      <th>18</th>\n",
       "      <td>2008</td>\n",
       "      <td>45.903000</td>\n",
       "    </tr>\n",
       "    <tr>\n",
       "      <th>19</th>\n",
       "      <td>2009</td>\n",
       "      <td>45.969600</td>\n",
       "    </tr>\n",
       "    <tr>\n",
       "      <th>20</th>\n",
       "      <td>2010</td>\n",
       "      <td>45.978800</td>\n",
       "    </tr>\n",
       "    <tr>\n",
       "      <th>21</th>\n",
       "      <td>2011</td>\n",
       "      <td>45.828000</td>\n",
       "    </tr>\n",
       "    <tr>\n",
       "      <th>22</th>\n",
       "      <td>2012</td>\n",
       "      <td>46.001889</td>\n",
       "    </tr>\n",
       "    <tr>\n",
       "      <th>23</th>\n",
       "      <td>2013</td>\n",
       "      <td>46.019667</td>\n",
       "    </tr>\n",
       "    <tr>\n",
       "      <th>24</th>\n",
       "      <td>2014</td>\n",
       "      <td>46.017125</td>\n",
       "    </tr>\n",
       "    <tr>\n",
       "      <th>25</th>\n",
       "      <td>2015</td>\n",
       "      <td>46.024833</td>\n",
       "    </tr>\n",
       "    <tr>\n",
       "      <th>26</th>\n",
       "      <td>2016</td>\n",
       "      <td>46.033333</td>\n",
       "    </tr>\n",
       "    <tr>\n",
       "      <th>27</th>\n",
       "      <td>2017</td>\n",
       "      <td>46.017125</td>\n",
       "    </tr>\n",
       "    <tr>\n",
       "      <th>28</th>\n",
       "      <td>2018</td>\n",
       "      <td>46.001889</td>\n",
       "    </tr>\n",
       "    <tr>\n",
       "      <th>29</th>\n",
       "      <td>2019</td>\n",
       "      <td>45.903000</td>\n",
       "    </tr>\n",
       "  </tbody>\n",
       "</table>\n",
       "</div>"
      ],
      "text/plain": [
       "    Year  Life_Expectancy\n",
       "0   1990        45.333000\n",
       "1   1991        45.333000\n",
       "2   1992        45.333000\n",
       "3   1993        44.547000\n",
       "4   1994        44.547000\n",
       "5   1995        45.333000\n",
       "6   1996        45.333000\n",
       "7   1997        44.104000\n",
       "8   1998        44.251667\n",
       "9   1999        45.333000\n",
       "10  2000        45.333000\n",
       "11  2001        44.251667\n",
       "12  2002        45.333000\n",
       "13  2003        44.251667\n",
       "14  2004        45.939000\n",
       "15  2005        45.995600\n",
       "16  2006        45.333000\n",
       "17  2007        45.829000\n",
       "18  2008        45.903000\n",
       "19  2009        45.969600\n",
       "20  2010        45.978800\n",
       "21  2011        45.828000\n",
       "22  2012        46.001889\n",
       "23  2013        46.019667\n",
       "24  2014        46.017125\n",
       "25  2015        46.024833\n",
       "26  2016        46.033333\n",
       "27  2017        46.017125\n",
       "28  2018        46.001889\n",
       "29  2019        45.903000"
      ]
     },
     "execution_count": 40,
     "metadata": {},
     "output_type": "execute_result"
    }
   ],
   "source": [
    "submission"
   ]
  },
  {
   "cell_type": "code",
   "execution_count": 41,
   "metadata": {},
   "outputs": [],
   "source": [
    "sub= pd.read_csv('sample_submission.csv')"
   ]
  },
  {
   "cell_type": "code",
   "execution_count": 36,
   "metadata": {},
   "outputs": [
    {
     "data": {
      "text/html": [
       "<div>\n",
       "<style scoped>\n",
       "    .dataframe tbody tr th:only-of-type {\n",
       "        vertical-align: middle;\n",
       "    }\n",
       "\n",
       "    .dataframe tbody tr th {\n",
       "        vertical-align: top;\n",
       "    }\n",
       "\n",
       "    .dataframe thead th {\n",
       "        text-align: right;\n",
       "    }\n",
       "</style>\n",
       "<table border=\"1\" class=\"dataframe\">\n",
       "  <thead>\n",
       "    <tr style=\"text-align: right;\">\n",
       "      <th></th>\n",
       "      <th>Year</th>\n",
       "      <th>Life_Expectancy</th>\n",
       "    </tr>\n",
       "  </thead>\n",
       "  <tbody>\n",
       "    <tr>\n",
       "      <th>0</th>\n",
       "      <td>1990</td>\n",
       "      <td>20.03</td>\n",
       "    </tr>\n",
       "    <tr>\n",
       "      <th>1</th>\n",
       "      <td>1991</td>\n",
       "      <td>20.03</td>\n",
       "    </tr>\n",
       "    <tr>\n",
       "      <th>2</th>\n",
       "      <td>1992</td>\n",
       "      <td>20.03</td>\n",
       "    </tr>\n",
       "    <tr>\n",
       "      <th>3</th>\n",
       "      <td>1993</td>\n",
       "      <td>20.03</td>\n",
       "    </tr>\n",
       "    <tr>\n",
       "      <th>4</th>\n",
       "      <td>1994</td>\n",
       "      <td>20.03</td>\n",
       "    </tr>\n",
       "  </tbody>\n",
       "</table>\n",
       "</div>"
      ],
      "text/plain": [
       "   Year  Life_Expectancy\n",
       "0  1990            20.03\n",
       "1  1991            20.03\n",
       "2  1992            20.03\n",
       "3  1993            20.03\n",
       "4  1994            20.03"
      ]
     },
     "execution_count": 36,
     "metadata": {},
     "output_type": "execute_result"
    }
   ],
   "source": [
    "sub.head()"
   ]
  },
  {
   "cell_type": "code",
   "execution_count": 44,
   "metadata": {},
   "outputs": [
    {
     "data": {
      "text/plain": [
       "0.0"
      ]
     },
     "execution_count": 44,
     "metadata": {},
     "output_type": "execute_result"
    }
   ],
   "source": [
    "mse"
   ]
  },
  {
   "cell_type": "code",
   "execution_count": null,
   "metadata": {},
   "outputs": [],
   "source": []
  }
 ],
 "metadata": {
  "kernelspec": {
   "display_name": "Python 3",
   "language": "python",
   "name": "python3"
  },
  "language_info": {
   "codemirror_mode": {
    "name": "ipython",
    "version": 3
   },
   "file_extension": ".py",
   "mimetype": "text/x-python",
   "name": "python",
   "nbconvert_exporter": "python",
   "pygments_lexer": "ipython3",
   "version": "3.7.6"
  }
 },
 "nbformat": 4,
 "nbformat_minor": 4
}
